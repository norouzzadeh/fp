{
  "nbformat": 4,
  "nbformat_minor": 0,
  "metadata": {
    "colab": {
      "name": "Pytorch3D_LiverReconstruction.ipynb",
      "provenance": [],
      "collapsed_sections": []
    },
    "kernelspec": {
      "name": "python3",
      "display_name": "Python 3"
    },
    "accelerator": "GPU"
  },
  "cells": [
    {
      "cell_type": "markdown",
      "metadata": {
        "id": "mVNDRkMiJf3u"
      },
      "source": [
        "**Pytorch3D Experiments**"
      ]
    },
    {
      "cell_type": "markdown",
      "metadata": {
        "id": "_gfdFICHJnR1"
      },
      "source": [
        "Install Pytorch3D, took 15 minutes.\r\n",
        "\r\n",
        "use the following command for faster installation:\r\n",
        "\r\n",
        " !pip install pytorch3d"
      ]
    },
    {
      "cell_type": "code",
      "metadata": {
        "id": "olYuDk_nLQIU",
        "colab": {
          "base_uri": "https://localhost:8080/",
          "height": 561
        },
        "outputId": "0b54874c-afcf-4268-dc47-a75500fb3dc1"
      },
      "source": [
        "import os\r\n",
        "!curl -LO https://github.com/NVIDIA/cub/archive/1.10.0.tar.gz\r\n",
        "!tar xzf 1.10.0.tar.gz\r\n",
        "os.environ[\"CUB_HOME\"] = os.getcwd() + \"/cub-1.10.0\"\r\n",
        "!pip install 'git+https://github.com/facebookresearch/pytorch3d.git'\r\n",
        "\r\n",
        "# !pip install 'torch==1.6.0+cu101' -f https://download.pytorch.org/whl/torch_stable.html\r\n",
        "# !pip install 'torchvision==0.7.0+cu101' -f https://download.pytorch.org/whl/torch_stable.html\r\n",
        "# !pip install 'pytorch3d==0.2.5'\r\n",
        "\r\n",
        "# !pip install torch\r\n",
        "# !pip install torchvision\r\n",
        "# !pip install pytorch3d"
      ],
      "execution_count": 32,
      "outputs": [
        {
          "output_type": "stream",
          "text": [
            "  % Total    % Received % Xferd  Average Speed   Time    Time     Time  Current\n",
            "                                 Dload  Upload   Total   Spent    Left  Speed\n",
            "100   118    0   118    0     0    723      0 --:--:-- --:--:-- --:--:--   723\n",
            "100  404k    0  404k    0     0   752k      0 --:--:-- --:--:-- --:--:--  752k\n",
            "Collecting git+https://github.com/facebookresearch/pytorch3d.git\n",
            "  Cloning https://github.com/facebookresearch/pytorch3d.git to /tmp/pip-req-build-bloa1gol\n",
            "  Running command git clone -q https://github.com/facebookresearch/pytorch3d.git /tmp/pip-req-build-bloa1gol\n",
            "Requirement already satisfied: fvcore in /usr/local/lib/python3.6/dist-packages (from pytorch3d==0.3.0) (0.1.3.post20210204)\n",
            "Requirement already satisfied: iopath in /usr/local/lib/python3.6/dist-packages (from pytorch3d==0.3.0) (0.1.3)\n",
            "Requirement already satisfied: Pillow in /usr/local/lib/python3.6/dist-packages (from fvcore->pytorch3d==0.3.0) (7.0.0)\n",
            "Requirement already satisfied: tqdm in /usr/local/lib/python3.6/dist-packages (from fvcore->pytorch3d==0.3.0) (4.41.1)\n",
            "Requirement already satisfied: pyyaml>=5.1 in /usr/local/lib/python3.6/dist-packages (from fvcore->pytorch3d==0.3.0) (5.4.1)\n",
            "Requirement already satisfied: tabulate in /usr/local/lib/python3.6/dist-packages (from fvcore->pytorch3d==0.3.0) (0.8.7)\n",
            "Requirement already satisfied: yacs>=0.1.6 in /usr/local/lib/python3.6/dist-packages (from fvcore->pytorch3d==0.3.0) (0.1.8)\n",
            "Requirement already satisfied: numpy in /usr/local/lib/python3.6/dist-packages (from fvcore->pytorch3d==0.3.0) (1.19.5)\n",
            "Requirement already satisfied: termcolor>=1.1 in /usr/local/lib/python3.6/dist-packages (from fvcore->pytorch3d==0.3.0) (1.1.0)\n",
            "Requirement already satisfied: portalocker in /usr/local/lib/python3.6/dist-packages (from iopath->pytorch3d==0.3.0) (2.2.1)\n",
            "Building wheels for collected packages: pytorch3d\n",
            "  Building wheel for pytorch3d (setup.py) ... \u001b[?25l\u001b[?25hdone\n",
            "  Created wheel for pytorch3d: filename=pytorch3d-0.3.0-cp36-cp36m-linux_x86_64.whl size=19381849 sha256=a0b36ec9ace58eab3a03423241161e296e87803cec28d2d78a748fe57e537941\n",
            "  Stored in directory: /tmp/pip-ephem-wheel-cache-1dewkajg/wheels/43/ba/81/3e4acb84fba48ba1b8264b1e4bba60662d098cb0c7cf486723\n",
            "Successfully built pytorch3d\n",
            "Installing collected packages: pytorch3d\n",
            "  Found existing installation: pytorch3d 0.2.5\n",
            "    Uninstalling pytorch3d-0.2.5:\n",
            "      Successfully uninstalled pytorch3d-0.2.5\n",
            "Successfully installed pytorch3d-0.3.0\n"
          ],
          "name": "stdout"
        },
        {
          "output_type": "display_data",
          "data": {
            "application/vnd.colab-display-data+json": {
              "pip_warning": {
                "packages": [
                  "pytorch3d"
                ]
              }
            }
          },
          "metadata": {
            "tags": []
          }
        }
      ]
    },
    {
      "cell_type": "markdown",
      "metadata": {
        "id": "G8RK3gu7Jw5N"
      },
      "source": [
        "Test installation"
      ]
    },
    {
      "cell_type": "code",
      "metadata": {
        "id": "EjoOwA4wJ0Bt"
      },
      "source": [
        "# import pytorch3d as p3d\r\n",
        "# print(p3d.__version__)"
      ],
      "execution_count": 33,
      "outputs": []
    },
    {
      "cell_type": "code",
      "metadata": {
        "id": "LrfZR8WASOJs"
      },
      "source": [
        "# !pip install torch torchvision\r\n",
        "\r\n"
      ],
      "execution_count": 34,
      "outputs": []
    },
    {
      "cell_type": "code",
      "metadata": {
        "id": "erp2YTL8Sd0T"
      },
      "source": [
        "import sys\r\n",
        "import torch\r\n",
        "import os\r\n",
        "\r\n",
        "from pytorch3d.io import load_obj, save_obj\r\n",
        "from pytorch3d.structures import Meshes\r\n",
        "from pytorch3d.utils import ico_sphere\r\n",
        "from pytorch3d.ops import sample_points_from_meshes\r\n",
        "from pytorch3d.loss import (\r\n",
        "    chamfer_distance, \r\n",
        "    mesh_edge_loss, \r\n",
        "    mesh_laplacian_smoothing, \r\n",
        "    mesh_normal_consistency,\r\n",
        ")\r\n",
        "import numpy as np\r\n",
        "from tqdm.notebook import tqdm\r\n",
        "%matplotlib notebook \r\n",
        "from mpl_toolkits.mplot3d import Axes3D\r\n",
        "import matplotlib.pyplot as plt\r\n",
        "import matplotlib as mpl\r\n",
        "mpl.rcParams['savefig.dpi'] = 80\r\n",
        "mpl.rcParams['figure.dpi'] = 80\r\n",
        "\r\n",
        "# Set the device\r\n",
        "if torch.cuda.is_available():\r\n",
        "    device = torch.device(\"cuda:0\")\r\n",
        "else:\r\n",
        "    device = torch.device(\"cpu\")\r\n",
        "    print(\"WARNING: CPU only, this will be slow!\")"
      ],
      "execution_count": 1,
      "outputs": []
    },
    {
      "cell_type": "code",
      "metadata": {
        "colab": {
          "base_uri": "https://localhost:8080/"
        },
        "id": "JoADxbB8Sgo1",
        "outputId": "8cd0b262-1d33-4ac8-c18d-90c6934bd038"
      },
      "source": [
        "!wget https://github.com/sofa-framework/sofa/blob/master/share/mesh/liver.obj"
      ],
      "execution_count": 2,
      "outputs": [
        {
          "output_type": "stream",
          "text": [
            "--2021-02-07 18:39:39--  https://github.com/sofa-framework/sofa/blob/master/share/mesh/liver.obj\n",
            "Resolving github.com (github.com)... 192.30.255.113\n",
            "Connecting to github.com (github.com)|192.30.255.113|:443... connected.\n",
            "HTTP request sent, awaiting response... 200 OK\n",
            "Length: unspecified [text/html]\n",
            "Saving to: ‘liver.obj.1’\n",
            "\n",
            "liver.obj.1             [ <=>                ] 239.54K  --.-KB/s    in 0.03s   \n",
            "\n",
            "2021-02-07 18:39:39 (8.92 MB/s) - ‘liver.obj.1’ saved [245292]\n",
            "\n"
          ],
          "name": "stdout"
        }
      ]
    },
    {
      "cell_type": "code",
      "metadata": {
        "colab": {
          "base_uri": "https://localhost:8080/"
        },
        "id": "kZ9KyWvnlC_F",
        "outputId": "908c2438-8ce7-4c87-a55e-8c4cda95fcc2"
      },
      "source": [
        "!ls -al"
      ],
      "execution_count": 3,
      "outputs": [
        {
          "output_type": "stream",
          "text": [
            "total 4452\n",
            "drwxr-xr-x  1 root root    4096 Feb  7 18:39 .\n",
            "drwxr-xr-x  1 root root    4096 Feb  7 17:00 ..\n",
            "-rw-r--r--  1 root root  414522 Feb  7 18:20 1.10.0.tar.gz\n",
            "drwxr-xr-x  1 root root    4096 Feb  4 15:26 .config\n",
            "drwxrwxr-x 10 root root    4096 Sep 16 04:22 cub-1.10.0\n",
            "-rw-r--r--  1 root root  250392 Feb  7 18:33 liver.obj\n",
            "-rw-r--r--  1 root root  245292 Feb  7 18:39 liver.obj.1\n",
            "-rw-r--r--  1 root root 3620757 Feb  7 18:17 liver-smooth.obj\n",
            "drwxr-xr-x  1 root root    4096 Feb  4 15:26 sample_data\n"
          ],
          "name": "stdout"
        }
      ]
    },
    {
      "cell_type": "code",
      "metadata": {
        "id": "uZt6Yww9Sk1C",
        "colab": {
          "base_uri": "https://localhost:8080/",
          "height": 248
        },
        "outputId": "9d8c1d05-4258-40de-970f-978ffef27504"
      },
      "source": [
        "# Load the liver mesh.\r\n",
        "trg_obj = os.path.join('liver.obj')\r\n",
        "\r\n",
        "# We read the target 3D model using load_obj\r\n",
        "verts, faces, aux = load_obj(trg_obj)\r\n",
        "print(verts.shape)\r\n",
        "# verts is a FloatTensor of shape (V, 3) where V is the number of vertices in the mesh\r\n",
        "# faces is an object which contains the following LongTensors: verts_idx, normals_idx and textures_idx\r\n",
        "# For this tutorial, normals and textures are ignored.\r\n",
        "faces_idx = faces.verts_idx.to(device)\r\n",
        "verts = verts.to(device)\r\n",
        "\r\n",
        "# We scale normalize and center the target mesh to fit in a sphere of radius 1 centered at (0,0,0). \r\n",
        "# (scale, center) will be used to bring the predicted mesh to its original center and scale\r\n",
        "# Note that normalizing the target mesh, speeds up the optimization but is not necessary!\r\n",
        "center = verts.mean(0)\r\n",
        "verts = verts - center\r\n",
        "\r\n",
        "scale = max(verts.abs().max(0)[0])\r\n",
        "verts = verts / scale\r\n",
        "\r\n",
        "# We construct a Meshes structure for the target mesh\r\n",
        "trg_mesh = Meshes(verts=[verts], faces=[faces_idx])\r\n",
        "\r\n",
        "# We initialize the source shape to be a sphere of radius 1\r\n",
        "src_mesh = ico_sphere(4, device)"
      ],
      "execution_count": 5,
      "outputs": [
        {
          "output_type": "stream",
          "text": [
            "torch.Size([0, 3])\n"
          ],
          "name": "stdout"
        },
        {
          "output_type": "error",
          "ename": "RuntimeError",
          "evalue": "ignored",
          "traceback": [
            "\u001b[0;31m---------------------------------------------------------------------------\u001b[0m",
            "\u001b[0;31mRuntimeError\u001b[0m                              Traceback (most recent call last)",
            "\u001b[0;32m<ipython-input-5-bdf2bb5a5ff7>\u001b[0m in \u001b[0;36m<module>\u001b[0;34m()\u001b[0m\n\u001b[1;32m     17\u001b[0m \u001b[0mverts\u001b[0m \u001b[0;34m=\u001b[0m \u001b[0mverts\u001b[0m \u001b[0;34m-\u001b[0m \u001b[0mcenter\u001b[0m\u001b[0;34m\u001b[0m\u001b[0;34m\u001b[0m\u001b[0m\n\u001b[1;32m     18\u001b[0m \u001b[0;34m\u001b[0m\u001b[0m\n\u001b[0;32m---> 19\u001b[0;31m \u001b[0mscale\u001b[0m \u001b[0;34m=\u001b[0m \u001b[0mmax\u001b[0m\u001b[0;34m(\u001b[0m\u001b[0mverts\u001b[0m\u001b[0;34m.\u001b[0m\u001b[0mabs\u001b[0m\u001b[0;34m(\u001b[0m\u001b[0;34m)\u001b[0m\u001b[0;34m.\u001b[0m\u001b[0mmax\u001b[0m\u001b[0;34m(\u001b[0m\u001b[0;36m0\u001b[0m\u001b[0;34m)\u001b[0m\u001b[0;34m[\u001b[0m\u001b[0;36m0\u001b[0m\u001b[0;34m]\u001b[0m\u001b[0;34m)\u001b[0m\u001b[0;34m\u001b[0m\u001b[0;34m\u001b[0m\u001b[0m\n\u001b[0m\u001b[1;32m     20\u001b[0m \u001b[0mverts\u001b[0m \u001b[0;34m=\u001b[0m \u001b[0mverts\u001b[0m \u001b[0;34m/\u001b[0m \u001b[0mscale\u001b[0m\u001b[0;34m\u001b[0m\u001b[0;34m\u001b[0m\u001b[0m\n\u001b[1;32m     21\u001b[0m \u001b[0;34m\u001b[0m\u001b[0m\n",
            "\u001b[0;31mRuntimeError\u001b[0m: cannot perform reduction function max on tensor with no elements because the operation does not have an identity"
          ]
        }
      ]
    },
    {
      "cell_type": "code",
      "metadata": {
        "id": "ywCx3dt7St2S"
      },
      "source": [
        "def plot_pointcloud(mesh, title=\"\"):\r\n",
        "    # Sample points uniformly from the surface of the mesh.\r\n",
        "    points = sample_points_from_meshes(mesh, 5000)\r\n",
        "    x, y, z = points.clone().detach().cpu().squeeze().unbind(1)    \r\n",
        "    fig = plt.figure(figsize=(5, 5))\r\n",
        "    ax = Axes3D(fig)\r\n",
        "    ax.scatter3D(x, z, -y)\r\n",
        "    ax.set_xlabel('x')\r\n",
        "    ax.set_ylabel('z')\r\n",
        "    ax.set_zlabel('y')\r\n",
        "    ax.set_title(title)\r\n",
        "    ax.view_init(190, 30)\r\n",
        "    plt.show()"
      ],
      "execution_count": null,
      "outputs": []
    },
    {
      "cell_type": "code",
      "metadata": {
        "id": "JCe5RvO3Swv2"
      },
      "source": [
        "# %matplotlib notebook\r\n",
        "plot_pointcloud(trg_mesh, \"Target mesh\")\r\n",
        "plot_pointcloud(src_mesh, \"Source mesh\")"
      ],
      "execution_count": null,
      "outputs": []
    },
    {
      "cell_type": "code",
      "metadata": {
        "id": "OCjL-RqWSzwX"
      },
      "source": [
        "# We will learn to deform the source mesh by offsetting its vertices\r\n",
        "# The shape of the deform parameters is equal to the total number of vertices in src_mesh\r\n",
        "deform_verts = torch.full(src_mesh.verts_packed().shape, 0.0, device=device, requires_grad=True)"
      ],
      "execution_count": null,
      "outputs": []
    },
    {
      "cell_type": "code",
      "metadata": {
        "id": "r53u17w2S4Mc"
      },
      "source": [
        "# The optimizer\r\n",
        "optimizer = torch.optim.SGD([deform_verts], lr=1.0, momentum=0.9)\r\n"
      ],
      "execution_count": null,
      "outputs": []
    },
    {
      "cell_type": "code",
      "metadata": {
        "id": "SEDB3ASXS-lG"
      },
      "source": [
        "# Number of optimization steps\r\n",
        "Niter = 2000\r\n",
        "# Weight for the chamfer loss\r\n",
        "w_chamfer = 1.0 \r\n",
        "# Weight for mesh edge loss\r\n",
        "w_edge = 1.0 \r\n",
        "# Weight for mesh normal consistency\r\n",
        "w_normal = 0.01 \r\n",
        "# Weight for mesh laplacian smoothing\r\n",
        "w_laplacian = 0.1 \r\n",
        "# Plot period for the losses\r\n",
        "plot_period = 250\r\n",
        "loop = tqdm(range(Niter))\r\n",
        "\r\n",
        "chamfer_losses = []\r\n",
        "laplacian_losses = []\r\n",
        "edge_losses = []\r\n",
        "normal_losses = []\r\n",
        "\r\n",
        "%matplotlib inline\r\n",
        "\r\n",
        "for i in loop:\r\n",
        "    # Initialize optimizer\r\n",
        "    optimizer.zero_grad()\r\n",
        "    \r\n",
        "    # Deform the mesh\r\n",
        "    new_src_mesh = src_mesh.offset_verts(deform_verts)\r\n",
        "    \r\n",
        "    # We sample 5k points from the surface of each mesh \r\n",
        "    sample_trg = sample_points_from_meshes(trg_mesh, 5000)\r\n",
        "    sample_src = sample_points_from_meshes(new_src_mesh, 5000)\r\n",
        "    \r\n",
        "    # We compare the two sets of pointclouds by computing (a) the chamfer loss\r\n",
        "    loss_chamfer, _ = chamfer_distance(sample_trg, sample_src)\r\n",
        "    \r\n",
        "    # and (b) the edge length of the predicted mesh\r\n",
        "    loss_edge = mesh_edge_loss(new_src_mesh)\r\n",
        "    \r\n",
        "    # mesh normal consistency\r\n",
        "    loss_normal = mesh_normal_consistency(new_src_mesh)\r\n",
        "    \r\n",
        "    # mesh laplacian smoothing\r\n",
        "    loss_laplacian = mesh_laplacian_smoothing(new_src_mesh, method=\"uniform\")\r\n",
        "    \r\n",
        "    # Weighted sum of the losses\r\n",
        "    loss = loss_chamfer * w_chamfer + loss_edge * w_edge + loss_normal * w_normal + loss_laplacian * w_laplacian\r\n",
        "    \r\n",
        "    # Print the losses\r\n",
        "    loop.set_description('total_loss = %.6f' % loss)\r\n",
        "    \r\n",
        "    # Save the losses for plotting\r\n",
        "    chamfer_losses.append(loss_chamfer)\r\n",
        "    edge_losses.append(loss_edge)\r\n",
        "    normal_losses.append(loss_normal)\r\n",
        "    laplacian_losses.append(loss_laplacian)\r\n",
        "    \r\n",
        "    # Plot mesh\r\n",
        "    if i % plot_period == 0:\r\n",
        "        plot_pointcloud(new_src_mesh, title=\"iter: %d\" % i)\r\n",
        "        \r\n",
        "    # Optimization step\r\n",
        "    loss.backward()\r\n",
        "    optimizer.step()"
      ],
      "execution_count": null,
      "outputs": []
    },
    {
      "cell_type": "code",
      "metadata": {
        "id": "xP094ODXTBxf"
      },
      "source": [
        "fig = plt.figure(figsize=(13, 5))\r\n",
        "ax = fig.gca()\r\n",
        "ax.plot(chamfer_losses, label=\"chamfer loss\")\r\n",
        "ax.plot(edge_losses, label=\"edge loss\")\r\n",
        "ax.plot(normal_losses, label=\"normal loss\")\r\n",
        "ax.plot(laplacian_losses, label=\"laplacian loss\")\r\n",
        "ax.legend(fontsize=\"16\")\r\n",
        "ax.set_xlabel(\"Iteration\", fontsize=\"16\")\r\n",
        "ax.set_ylabel(\"Loss\", fontsize=\"16\")\r\n",
        "ax.set_title(\"Loss vs iterations\", fontsize=\"16\");"
      ],
      "execution_count": null,
      "outputs": []
    },
    {
      "cell_type": "code",
      "metadata": {
        "id": "0jnWUCV2UA8K"
      },
      "source": [
        "final_verts, final_faces = new_src_mesh.get_mesh_verts_faces(0)\r\n",
        "\r\n",
        "# Scale normalize back to the original target size\r\n",
        "final_verts = final_verts * scale + center\r\n",
        "\r\n",
        "# Store the predicted mesh using save_obj\r\n",
        "final_obj = os.path.join('./', 'final_model.obj')\r\n",
        "save_obj(final_obj, final_verts, final_faces)"
      ],
      "execution_count": null,
      "outputs": []
    }
  ]
}